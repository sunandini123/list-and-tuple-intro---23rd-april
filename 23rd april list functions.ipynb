{
 "cells": [
  {
   "cell_type": "markdown",
   "id": "9d7a703b-90da-427a-87c3-7fec20ce2cfc",
   "metadata": {},
   "source": [
    "### LIST AND TUPLE INTRO -  23rd April "
   ]
  },
  {
   "cell_type": "markdown",
   "id": "2ad8b082-bacb-4fde-8e9a-417d9b569997",
   "metadata": {},
   "source": [
    "# list"
   ]
  },
  {
   "cell_type": "code",
   "execution_count": 47,
   "id": "af15b027-d5a6-46f5-9783-f36991a6eed0",
   "metadata": {},
   "outputs": [],
   "source": [
    "l6=['z','x','b','d']"
   ]
  },
  {
   "cell_type": "code",
   "execution_count": 49,
   "id": "dd81dbd2-afb4-4716-abe5-0c50f60c62ea",
   "metadata": {},
   "outputs": [
    {
     "data": {
      "text/plain": [
       "['z', 'x', 'b', 'd']"
      ]
     },
     "execution_count": 49,
     "metadata": {},
     "output_type": "execute_result"
    }
   ],
   "source": [
    "l6"
   ]
  },
  {
   "cell_type": "code",
   "execution_count": 54,
   "id": "552accb2-450c-4e43-94fe-fc6161dd621a",
   "metadata": {},
   "outputs": [],
   "source": [
    "l6.sort()  # parameter tuning "
   ]
  },
  {
   "cell_type": "code",
   "execution_count": 56,
   "id": "944ba847-f3e6-47c4-a67a-dd0d6a977d96",
   "metadata": {},
   "outputs": [
    {
     "data": {
      "text/plain": [
       "['b', 'd', 'x', 'z']"
      ]
     },
     "execution_count": 56,
     "metadata": {},
     "output_type": "execute_result"
    }
   ],
   "source": [
    "l6"
   ]
  },
  {
   "cell_type": "code",
   "execution_count": 60,
   "id": "aee5f157-09e2-4e2d-9ce5-93d267f3fcf1",
   "metadata": {},
   "outputs": [],
   "source": [
    "l6.sort(reverse=True)"
   ]
  },
  {
   "cell_type": "code",
   "execution_count": 62,
   "id": "49a7bc86-d43e-4aef-b338-449daa04a5d7",
   "metadata": {},
   "outputs": [
    {
     "data": {
      "text/plain": [
       "['z', 'x', 'd', 'b']"
      ]
     },
     "execution_count": 62,
     "metadata": {},
     "output_type": "execute_result"
    }
   ],
   "source": [
    "l6"
   ]
  },
  {
   "cell_type": "code",
   "execution_count": 64,
   "id": "120258b1-f752-4209-bda9-ceeac169fde3",
   "metadata": {},
   "outputs": [
    {
     "data": {
      "text/plain": [
       "['z', 'x', 'd', 'b']"
      ]
     },
     "execution_count": 64,
     "metadata": {},
     "output_type": "execute_result"
    }
   ],
   "source": [
    "l6"
   ]
  },
  {
   "cell_type": "code",
   "execution_count": 66,
   "id": "6a32fbb9-7b29-44ed-97b6-bc1eceb65693",
   "metadata": {},
   "outputs": [
    {
     "name": "stdout",
     "output_type": "stream",
     "text": [
      "z\n",
      "x\n",
      "d\n",
      "b\n"
     ]
    }
   ],
   "source": [
    "for k in l6:\n",
    "    print(k)"
   ]
  },
  {
   "cell_type": "code",
   "execution_count": 74,
   "id": "0219ca46-bddf-470c-a72e-d901a5bd11ac",
   "metadata": {},
   "outputs": [
    {
     "ename": "SyntaxError",
     "evalue": "invalid syntax (3234727218.py, line 1)",
     "output_type": "error",
     "traceback": [
      "\u001b[0;36m  Cell \u001b[0;32mIn[74], line 1\u001b[0;36m\u001b[0m\n\u001b[0;31m    for i in enumerate l6:\u001b[0m\n\u001b[0m                       ^\u001b[0m\n\u001b[0;31mSyntaxError\u001b[0m\u001b[0;31m:\u001b[0m invalid syntax\n"
     ]
    }
   ],
   "source": [
    "for i in enumerate l6:\n",
    "print(i)"
   ]
  },
  {
   "cell_type": "code",
   "execution_count": 76,
   "id": "d03f92ef-5e7c-4545-b4b0-40b3a60e5608",
   "metadata": {},
   "outputs": [
    {
     "name": "stdout",
     "output_type": "stream",
     "text": [
      "0 z\n",
      "1 x\n",
      "2 d\n",
      "3 b\n"
     ]
    }
   ],
   "source": [
    "for index, value in enumerate(l6):\n",
    "    print(index, value)"
   ]
  },
  {
   "cell_type": "code",
   "execution_count": 78,
   "id": "1cb5749c-9325-4f39-ade5-89479da38596",
   "metadata": {},
   "outputs": [
    {
     "data": {
      "text/plain": [
       "True"
      ]
     },
     "execution_count": 78,
     "metadata": {},
     "output_type": "execute_result"
    }
   ],
   "source": [
    "all(l6)"
   ]
  },
  {
   "cell_type": "code",
   "execution_count": null,
   "id": "140ad921-b3fb-4d8d-9f7e-7edd04798d22",
   "metadata": {},
   "outputs": [],
   "source": [
    "# all function means if all values are non zero "
   ]
  },
  {
   "cell_type": "code",
   "execution_count": 80,
   "id": "be466af4-d444-4498-8348-0427f649ee04",
   "metadata": {},
   "outputs": [
    {
     "data": {
      "text/plain": [
       "True"
      ]
     },
     "execution_count": 80,
     "metadata": {},
     "output_type": "execute_result"
    }
   ],
   "source": [
    "any(l6)"
   ]
  },
  {
   "cell_type": "code",
   "execution_count": 82,
   "id": "9e3c31b3-fa5a-411a-a454-24585585e983",
   "metadata": {},
   "outputs": [],
   "source": [
    "l6.append(0)"
   ]
  },
  {
   "cell_type": "code",
   "execution_count": 84,
   "id": "b426b50b-3823-4e79-a87a-2402bf9ea2fd",
   "metadata": {},
   "outputs": [
    {
     "data": {
      "text/plain": [
       "['z', 'x', 'd', 'b', 0]"
      ]
     },
     "execution_count": 84,
     "metadata": {},
     "output_type": "execute_result"
    }
   ],
   "source": [
    "l6"
   ]
  },
  {
   "cell_type": "code",
   "execution_count": 86,
   "id": "7e49b86a-780e-4e6b-acfe-d67f918de5eb",
   "metadata": {},
   "outputs": [
    {
     "data": {
      "text/plain": [
       "False"
      ]
     },
     "execution_count": 86,
     "metadata": {},
     "output_type": "execute_result"
    }
   ],
   "source": [
    "all(l6)"
   ]
  },
  {
   "cell_type": "code",
   "execution_count": 88,
   "id": "580f47dd-9123-4631-99a4-24f046eba3ee",
   "metadata": {},
   "outputs": [
    {
     "data": {
      "text/plain": [
       "True"
      ]
     },
     "execution_count": 88,
     "metadata": {},
     "output_type": "execute_result"
    }
   ],
   "source": [
    "any(l6)"
   ]
  },
  {
   "cell_type": "code",
   "execution_count": 109,
   "id": "65dbcc58-a05f-4ec7-8c8a-5d35f109f0a6",
   "metadata": {},
   "outputs": [
    {
     "data": {
      "text/plain": [
       "['z', 'x', 'd', 'b', 0]"
      ]
     },
     "execution_count": 109,
     "metadata": {},
     "output_type": "execute_result"
    }
   ],
   "source": [
    "l6"
   ]
  },
  {
   "cell_type": "code",
   "execution_count": null,
   "id": "e81a4a1e-1941-4781-b0b8-4de36a203c32",
   "metadata": {},
   "outputs": [],
   "source": []
  },
  {
   "cell_type": "code",
   "execution_count": null,
   "id": "e9c06211-1bde-49b7-999f-084a0eab5f0c",
   "metadata": {},
   "outputs": [],
   "source": []
  },
  {
   "cell_type": "markdown",
   "id": "af012305-3b48-4420-acf6-1221052b0dd1",
   "metadata": {},
   "source": [
    "# TUPLE"
   ]
  },
  {
   "cell_type": "code",
   "execution_count": 7,
   "id": "04b21539-7c69-49a4-afbd-dbb3ea6b5474",
   "metadata": {},
   "outputs": [],
   "source": [
    "t=()"
   ]
  },
  {
   "cell_type": "code",
   "execution_count": 9,
   "id": "001de1fd-30f3-4435-a89c-83a47023ff04",
   "metadata": {},
   "outputs": [
    {
     "data": {
      "text/plain": [
       "()"
      ]
     },
     "execution_count": 9,
     "metadata": {},
     "output_type": "execute_result"
    }
   ],
   "source": [
    "t"
   ]
  },
  {
   "cell_type": "code",
   "execution_count": 11,
   "id": "3db50f08-906c-40b3-86cb-9f1c43b4a018",
   "metadata": {},
   "outputs": [
    {
     "data": {
      "text/plain": [
       "0"
      ]
     },
     "execution_count": 11,
     "metadata": {},
     "output_type": "execute_result"
    }
   ],
   "source": [
    "len(t)"
   ]
  },
  {
   "cell_type": "code",
   "execution_count": 13,
   "id": "141cef21-3552-4835-b53c-ae4139f23aa1",
   "metadata": {},
   "outputs": [
    {
     "data": {
      "text/plain": [
       "(10, 20, 30, 40, 50)"
      ]
     },
     "execution_count": 13,
     "metadata": {},
     "output_type": "execute_result"
    }
   ],
   "source": [
    "t1=(10,20,30,40,50)\n",
    "t1"
   ]
  },
  {
   "cell_type": "code",
   "execution_count": 15,
   "id": "4c3f7220-b11b-4b1c-baf4-3f18a02fa249",
   "metadata": {},
   "outputs": [
    {
     "data": {
      "text/plain": [
       "('a', 'z', 'm', 'n')"
      ]
     },
     "execution_count": 15,
     "metadata": {},
     "output_type": "execute_result"
    }
   ],
   "source": [
    "t2=('a','z','m','n')\n",
    "t2"
   ]
  },
  {
   "cell_type": "code",
   "execution_count": 21,
   "id": "337715da-5200-4838-a122-3168f58dd901",
   "metadata": {},
   "outputs": [
    {
     "data": {
      "text/plain": [
       "1"
      ]
     },
     "execution_count": 21,
     "metadata": {},
     "output_type": "execute_result"
    }
   ],
   "source": [
    "t2.count('z')"
   ]
  },
  {
   "cell_type": "code",
   "execution_count": 23,
   "id": "cbaa0766-49a2-46ff-a379-ed423da21562",
   "metadata": {},
   "outputs": [
    {
     "data": {
      "text/plain": [
       "1"
      ]
     },
     "execution_count": 23,
     "metadata": {},
     "output_type": "execute_result"
    }
   ],
   "source": [
    "t2.index('z')"
   ]
  },
  {
   "cell_type": "code",
   "execution_count": 25,
   "id": "81e23fda-f6c9-4609-a34a-326532c23cf4",
   "metadata": {},
   "outputs": [
    {
     "data": {
      "text/plain": [
       "(10, 20, 30, 40, 50)"
      ]
     },
     "execution_count": 25,
     "metadata": {},
     "output_type": "execute_result"
    }
   ],
   "source": [
    "t1"
   ]
  },
  {
   "cell_type": "code",
   "execution_count": 27,
   "id": "943fdc9f-1ddc-4e12-90bb-01296ccf53d2",
   "metadata": {},
   "outputs": [
    {
     "ename": "TypeError",
     "evalue": "'tuple' object does not support item assignment",
     "output_type": "error",
     "traceback": [
      "\u001b[0;31m---------------------------------------------------------------------------\u001b[0m",
      "\u001b[0;31mTypeError\u001b[0m                                 Traceback (most recent call last)",
      "Cell \u001b[0;32mIn[27], line 1\u001b[0m\n\u001b[0;32m----> 1\u001b[0m t1[\u001b[38;5;241m0\u001b[39m]\u001b[38;5;241m=\u001b[39m\u001b[38;5;241m100\u001b[39m\n",
      "\u001b[0;31mTypeError\u001b[0m: 'tuple' object does not support item assignment"
     ]
    }
   ],
   "source": [
    "t1[0]=100"
   ]
  },
  {
   "cell_type": "code",
   "execution_count": null,
   "id": "6437a1ec-ed83-4093-98bf-507d8ca3f61c",
   "metadata": {},
   "outputs": [],
   "source": [
    "## ERROR AS TUPLES ARE IMMUTABLE "
   ]
  },
  {
   "cell_type": "code",
   "execution_count": 29,
   "id": "7d86d1b8-c862-44fd-a0f4-b461e35951e3",
   "metadata": {},
   "outputs": [
    {
     "data": {
      "text/plain": [
       "(10, 20, 30, 40, 50)"
      ]
     },
     "execution_count": 29,
     "metadata": {},
     "output_type": "execute_result"
    }
   ],
   "source": [
    "t1"
   ]
  },
  {
   "cell_type": "code",
   "execution_count": 115,
   "id": "af87f06b-b55f-4b55-a5ca-ba3ef0a8205d",
   "metadata": {},
   "outputs": [
    {
     "data": {
      "text/plain": [
       "('a', 'z', 'm', 'n')"
      ]
     },
     "execution_count": 115,
     "metadata": {},
     "output_type": "execute_result"
    }
   ],
   "source": [
    "t2"
   ]
  },
  {
   "cell_type": "code",
   "execution_count": 31,
   "id": "95ed8c3a-b6d6-4199-a83c-bdd25beb4bfc",
   "metadata": {},
   "outputs": [],
   "source": [
    "t3=t1*3"
   ]
  },
  {
   "cell_type": "code",
   "execution_count": 33,
   "id": "46b30671-c634-414c-ba37-64547771f9e9",
   "metadata": {},
   "outputs": [
    {
     "data": {
      "text/plain": [
       "(10, 20, 30, 40, 50, 10, 20, 30, 40, 50, 10, 20, 30, 40, 50)"
      ]
     },
     "execution_count": 33,
     "metadata": {},
     "output_type": "execute_result"
    }
   ],
   "source": [
    "t3"
   ]
  },
  {
   "cell_type": "code",
   "execution_count": null,
   "id": "606ebb27-c4d9-4311-a037-5e335f1fb4c5",
   "metadata": {},
   "outputs": [],
   "source": [
    "BODMAS - BRACKETS, ORDER, DIVISION, MULT, ADD , SUB"
   ]
  },
  {
   "cell_type": "code",
   "execution_count": 37,
   "id": "b3c98772-1357-40a4-8c25-da1ca3c93226",
   "metadata": {},
   "outputs": [
    {
     "data": {
      "text/plain": [
       "10"
      ]
     },
     "execution_count": 37,
     "metadata": {},
     "output_type": "execute_result"
    }
   ],
   "source": [
    "2*5"
   ]
  },
  {
   "cell_type": "code",
   "execution_count": 40,
   "id": "b4b7e77a-6cdc-47f2-b7db-6823e5bd2dc9",
   "metadata": {},
   "outputs": [
    {
     "data": {
      "text/plain": [
       "32"
      ]
     },
     "execution_count": 40,
     "metadata": {},
     "output_type": "execute_result"
    }
   ],
   "source": [
    "2**5"
   ]
  },
  {
   "cell_type": "code",
   "execution_count": 43,
   "id": "5350f37e-061f-42a8-8976-7c14724842c1",
   "metadata": {},
   "outputs": [
    {
     "data": {
      "text/plain": [
       "1"
      ]
     },
     "execution_count": 43,
     "metadata": {},
     "output_type": "execute_result"
    }
   ],
   "source": [
    "15%2"
   ]
  },
  {
   "cell_type": "code",
   "execution_count": null,
   "id": "b4132274-2fb6-4318-8e9f-5eeaeae5c326",
   "metadata": {},
   "outputs": [],
   "source": [
    "% means remainder "
   ]
  },
  {
   "cell_type": "code",
   "execution_count": null,
   "id": "ab6ceb2e-9aa0-413f-a15a-444d7b888ba3",
   "metadata": {},
   "outputs": [],
   "source": []
  },
  {
   "cell_type": "code",
   "execution_count": null,
   "id": "d6511b23-3c59-4d15-b43e-68376a62c9e2",
   "metadata": {},
   "outputs": [],
   "source": []
  },
  {
   "cell_type": "code",
   "execution_count": null,
   "id": "22c31ec6-cfb4-495c-931d-64d9501d91a5",
   "metadata": {},
   "outputs": [],
   "source": []
  },
  {
   "cell_type": "code",
   "execution_count": null,
   "id": "2028be82-b3b3-4962-aba1-b86738b92e13",
   "metadata": {},
   "outputs": [],
   "source": []
  }
 ],
 "metadata": {
  "kernelspec": {
   "display_name": "Python [conda env:base] *",
   "language": "python",
   "name": "conda-base-py"
  },
  "language_info": {
   "codemirror_mode": {
    "name": "ipython",
    "version": 3
   },
   "file_extension": ".py",
   "mimetype": "text/x-python",
   "name": "python",
   "nbconvert_exporter": "python",
   "pygments_lexer": "ipython3",
   "version": "3.12.7"
  }
 },
 "nbformat": 4,
 "nbformat_minor": 5
}
